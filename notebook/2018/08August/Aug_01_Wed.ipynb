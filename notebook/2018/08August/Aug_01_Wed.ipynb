{
 "cells": [
  {
   "cell_type": "markdown",
   "metadata": {},
   "source": [
    "# Aug_01_Wed"
   ]
  },
  {
   "cell_type": "code",
   "execution_count": 2,
   "metadata": {},
   "outputs": [
    {
     "name": "stdout",
     "output_type": "stream",
     "text": [
      "Using matplotlib backend: Qt5Agg\n",
      "Populating the interactive namespace from numpy and matplotlib\n"
     ]
    }
   ],
   "source": [
    "%pylab\n",
    "import matplotlib\n",
    "import matplotlib.pyplot as plt\n",
    "import numpy as np"
   ]
  },
  {
   "cell_type": "markdown",
   "metadata": {},
   "source": [
    "## The Theoretical Minimum\n",
    "\n",
    "### Chapter 1 - The Nature of Classical Physics\n",
    "\n",
    "_classical physics, classical mechanics_ - physics before the advent of QM; Newton, Maxwell-Faraday theory of EM fields, Einstein's general relativity, etc.\n",
    "\n",
    "_system_ - defined by a _state space_ and a _law of motion_\n",
    "- the state space can be finite or infinite\n",
    "- the law of motion can be continuous or discrete\n",
    "- must be __deterministic__ and __reversible__\n",
    "  - Both past and future are completely predicted by the present.  \n",
    "  - Together, also known as __conervation of information__ or the \"minus-first law\"\n",
    "- _closed system_ - one that is either the whole universe or is so isolated that it behaves like nothing else exists\n",
    "- _dynamical system_ - changes with time\n",
    "\n",
    "In the real world, labeled by the real numbers, our resolving power is limited due to the infinite density of the real numbers. In situations where small changes in initial conditions can create vastly different system histories, this limits our ability to make accurate predictions. This phenomenon is called __chaos__."
   ]
  },
  {
   "cell_type": "markdown",
   "metadata": {},
   "source": [
    "### Interlude 1 - Spaces, Trigonometry, and Vectors"
   ]
  },
  {
   "cell_type": "code",
   "execution_count": 10,
   "metadata": {},
   "outputs": [],
   "source": [
    "# Exercise 1\n",
    "\n",
    "t = np.arange(-10.0, 10.0, 0.001)\n",
    "f = t**4 + 3*t**3 - 12*t**2 + t - 6\n",
    "\n",
    "chi = np.arange(-2*np.pi, 2*np.pi, 0.001)\n",
    "g = np.sin(chi) - np.cos(chi)\n",
    "\n",
    "alpha = np.arange(0.001, 10.0, 0.001)\n",
    "theta = np.exp(alpha) + alpha*np.log(alpha)\n",
    "\n",
    "t2 = np.arange(-2*np.pi, 2*np.pi, 0.001)\n",
    "x = np.sin(t2)**2 - np.cos(t2)\n",
    "\n",
    "\n",
    "plt.figure(1)\n",
    "\n",
    "plt.subplot(221)\n",
    "plt.plot(t, f)\n",
    "plt.grid()\n",
    "\n",
    "plt.subplot(222)\n",
    "plt.plot(chi, g)\n",
    "plt.grid()\n",
    "\n",
    "plt.subplot(223)\n",
    "plt.plot(alpha, theta)\n",
    "plt.grid()\n",
    "\n",
    "plt.subplot(224)\n",
    "plt.plot(t2, x)\n",
    "plt.grid()\n",
    "\n",
    "\n",
    "plt.show()"
   ]
  },
  {
   "cell_type": "code",
   "execution_count": null,
   "metadata": {},
   "outputs": [],
   "source": []
  }
 ],
 "metadata": {
  "kernelspec": {
   "display_name": "Python 3",
   "language": "python",
   "name": "python3"
  },
  "language_info": {
   "codemirror_mode": {
    "name": "ipython",
    "version": 3
   },
   "file_extension": ".py",
   "mimetype": "text/x-python",
   "name": "python",
   "nbconvert_exporter": "python",
   "pygments_lexer": "ipython3",
   "version": "3.6.5"
  }
 },
 "nbformat": 4,
 "nbformat_minor": 1
}
