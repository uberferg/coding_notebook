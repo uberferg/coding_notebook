{
 "cells": [
  {
   "cell_type": "markdown",
   "metadata": {},
   "source": [
    "# Aug_18_Sat"
   ]
  },
  {
   "cell_type": "code",
   "execution_count": 1,
   "metadata": {},
   "outputs": [
    {
     "name": "stdout",
     "output_type": "stream",
     "text": [
      "Using matplotlib backend: Qt5Agg\n",
      "Populating the interactive namespace from numpy and matplotlib\n"
     ]
    }
   ],
   "source": [
    "%pylab\n",
    "import matplotlib\n",
    "import matplotlib.pyplot as plt\n",
    "import numpy as np"
   ]
  },
  {
   "cell_type": "markdown",
   "metadata": {},
   "source": [
    "# Analog Voltmeter Project\n",
    "\n",
    "## Prototype 1\n",
    "\n",
    "- resistor 10K burned out, not sure if caused by first test or if it was already broken\n",
    "- after replacing resistor, still no action\n",
    "- removing resistor produced a basic directional reading (no reliable magnitude reading) but required ~90V to trigger a reading\n",
    "\n",
    "## Prototype 2\n",
    "- turns out the solenoid was shitty. Making a better one produces directional readings with only a 9V battery, and would probably work with less.\n",
    "- resistors still cause all results to fail, not sure why. might just be too little current to produce a strong magnetic field in the solenoid? might just be burning out the resistors immediately and butting the circuit (definitely burned out at least 2)\n",
    "- main issue appears to be making a decent dial. haven't been abel to produce a low-friction axis of rotation for the dials I've tried, so the best results so far have just been making the \"dial\" loose enough to flip completely in 1 direction or a another (aka says which way current is flowing, but is loose enough that any current over some threshold causes identical measurement, and everything below it causes nothing)."
   ]
  }
 ],
 "metadata": {
  "kernelspec": {
   "display_name": "Python 3",
   "language": "python",
   "name": "python3"
  },
  "language_info": {
   "codemirror_mode": {
    "name": "ipython",
    "version": 3
   },
   "file_extension": ".py",
   "mimetype": "text/x-python",
   "name": "python",
   "nbconvert_exporter": "python",
   "pygments_lexer": "ipython3",
   "version": "3.6.5"
  }
 },
 "nbformat": 4,
 "nbformat_minor": 1
}
