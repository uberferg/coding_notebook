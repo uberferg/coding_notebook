{
 "cells": [
  {
   "cell_type": "code",
   "execution_count": 16,
   "metadata": {},
   "outputs": [],
   "source": [
    "from plotly import tools\n",
    "import plotly.plotly as py\n",
    "import plotly.graph_objs as go\n",
    "import numpy as np"
   ]
  },
  {
   "cell_type": "markdown",
   "metadata": {},
   "source": [
    "# Classical Mechanics\n",
    "A brief overview of classical mechanics, from Newton's laws to Hamiltonians, with a focus on visualization."
   ]
  },
  {
   "cell_type": "markdown",
   "metadata": {},
   "source": [
    "## 1 Particle motion"
   ]
  },
  {
   "cell_type": "markdown",
   "metadata": {},
   "source": [
    "### 1.1 Motion in 1 dimension\n",
    "Suppose a particle starts to move at time $t=0$ according to the equations:\n",
    "$$ \\begin{align*}\n",
    "    x(t) &= 0 \\\\\n",
    "    y(t) &= 0 \\\\\n",
    "    z(t) &= z(0) + v(0)t - \\frac 1 2 gt^2\n",
    "\\end{align*} $$\n",
    "\n",
    "The particle clearly has no motion in the $x$ and $y$ directions. The constants $z(0)$ and $v(0)$ represent the initial position and velocity of the particle along the $z$-axis at time $t=0$. $g$ is also a constant. We can calculate the velocities and accelerations by differentiating with respect to time, denoted $\\dot x = \\frac{dx}{dt}$ and $\\ddot x = \\frac{d^2x}{dt^2}$\n",
    "$$ \\begin{align*}\n",
    "    \\dot x &= \\ddot x = 0 \\\\\n",
    "    \\dot y &= \\ddot y = 0 \\\\\n",
    "    \\dot z &= v(0) - gt \\\\\n",
    "    \\ddot z &= -g\n",
    "\\end{align*} $$"
   ]
  },
  {
   "cell_type": "code",
   "execution_count": 20,
   "metadata": {},
   "outputs": [
    {
     "name": "stdout",
     "output_type": "stream",
     "text": [
      "This is the format of your plot grid:\n",
      "[ (1,1) x1,y1 ]  [ (1,2) x2,y2 ]  [ (1,3) x3,y3 ]\n",
      "\n"
     ]
    },
    {
     "data": {
      "text/html": [
       "<iframe id=\"igraph\" scrolling=\"no\" style=\"border:none;\" seamless=\"seamless\" src=\"https://plot.ly/~uberferg/6.embed\" height=\"525px\" width=\"100%\"></iframe>"
      ],
      "text/plain": [
       "<plotly.tools.PlotlyDisplay object>"
      ]
     },
     "execution_count": 20,
     "metadata": {},
     "output_type": "execute_result"
    }
   ],
   "source": [
    "## Plotting equations of motion \n",
    "\n",
    "# Define functions for the equations of motion\n",
    "def z(t, z0=0, v0=0, g=9.8):\n",
    "    return -0.5*g*t**2 + v0*t + z0\n",
    "\n",
    "def zDot(t, v0=0, g=9.8):\n",
    "    return v0 - g*t\n",
    "\n",
    "def zDDot(t, g=9.8):\n",
    "    return 0*t - g\n",
    "\n",
    "\n",
    "# Create the data. N is the \"resolution\" of our plot with respect to time\n",
    "N = 500\n",
    "time = np.linspace(0, 1, N)\n",
    "\n",
    "z_trace = go.Scatter(\n",
    "    x = time,\n",
    "    y = z(time)\n",
    ")\n",
    "zdot_trace = go.Scatter(\n",
    "    x = time,\n",
    "    y = zDot(time)\n",
    ")\n",
    "zddot_trace = go.Scatter(\n",
    "    x = time,\n",
    "    y = zDDot(time)\n",
    ")\n",
    "\n",
    "\n",
    "# Edit the layout\n",
    "fig = tools.make_subplots(rows=1, cols=3, subplot_titles=('z', 'v_z', 'a_z'))\n",
    "fig.append_trace(z_trace, 1, 1)\n",
    "fig.append_trace(zdot_trace, 1, 2)\n",
    "fig.append_trace(zddot_trace, 1, 3)\n",
    "\n",
    "fig['layout']['xaxis1'].update(title='t')\n",
    "fig['layout']['xaxis2'].update(title='t')\n",
    "fig['layout']['xaxis3'].update(title='t')\n",
    "\n",
    "fig['layout'].update(title='Fig. 1.1.1')\n",
    "\n",
    "\n",
    "# Plot\n",
    "py.iplot(fig, filename='tmcm_1_1_1')"
   ]
  },
  {
   "cell_type": "markdown",
   "metadata": {},
   "source": [
    "## Newtonian Formulation\n",
    "$$F = m \\ddot x $$"
   ]
  }
 ],
 "metadata": {
  "kernelspec": {
   "display_name": "Python 3",
   "language": "python",
   "name": "python3"
  },
  "language_info": {
   "codemirror_mode": {
    "name": "ipython",
    "version": 3
   },
   "file_extension": ".py",
   "mimetype": "text/x-python",
   "name": "python",
   "nbconvert_exporter": "python",
   "pygments_lexer": "ipython3",
   "version": "3.7.0"
  }
 },
 "nbformat": 4,
 "nbformat_minor": 2
}
